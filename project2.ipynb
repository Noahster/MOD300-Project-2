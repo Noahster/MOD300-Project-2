{
 "cells": [
  {
   "cell_type": "markdown",
   "id": "e452ba8a",
   "metadata": {},
   "source": [
    "Modeling the Worst: A Zombie and Ebola outbreak\n",
    "\n",
    "MOD300: Mandatory Project 2\n",
    "\n",
    "Collaborators:  "
   ]
  },
  {
   "cell_type": "markdown",
   "id": "8c53c9ca",
   "metadata": {},
   "source": [
    "skibidi toilet"
   ]
  }
 ],
 "metadata": {
  "language_info": {
   "name": "python"
  }
 },
 "nbformat": 4,
 "nbformat_minor": 5
}
