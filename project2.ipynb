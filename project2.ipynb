{
 "cells": [
  {
   "cell_type": "markdown",
   "id": "e452ba8a",
   "metadata": {},
   "source": [
    "Modeling the Worst: A Zombie and Ebola outbreak\n",
    "\n",
    "MOD300: Mandatory Project 2\n",
    "\n",
    "Collaborators:  "
   ]
  },
  {
   "cell_type": "markdown",
   "id": "e97f0054",
   "metadata": {},
   "source": [
    "Abstract"
   ]
  },
  {
   "cell_type": "markdown",
   "id": "fa6da91b",
   "metadata": {},
   "source": [
    "Introduction"
   ]
  },
  {
   "cell_type": "markdown",
   "id": "b91b351e",
   "metadata": {},
   "source": [
    "Modeling a zombie outbreak"
   ]
  },
  {
   "cell_type": "markdown",
   "id": "0ec406d6",
   "metadata": {},
   "source": [
    "Exercise 1"
   ]
  },
  {
   "cell_type": "markdown",
   "id": "8d55f4c5",
   "metadata": {},
   "source": [
    "Exercise 2"
   ]
  },
  {
   "cell_type": "markdown",
   "id": "4f92a65e",
   "metadata": {},
   "source": [
    "Exercise 3"
   ]
  },
  {
   "cell_type": "markdown",
   "id": "57cd63c7",
   "metadata": {},
   "source": [
    "Exercise 4"
   ]
  },
  {
   "cell_type": "markdown",
   "id": "198934f3",
   "metadata": {},
   "source": [
    "Exercise 5"
   ]
  },
  {
   "cell_type": "markdown",
   "id": "2a6e8ba4",
   "metadata": {},
   "source": [
    "Reflection"
   ]
  }
 ],
 "metadata": {
  "language_info": {
   "name": "python"
  }
 },
 "nbformat": 4,
 "nbformat_minor": 5
}
