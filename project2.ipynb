{
 "cells": [
  {
   "cell_type": "markdown",
   "id": "e452ba8a",
   "metadata": {},
   "source": [
    "Modeling the Worst: A Zombie and Ebola outbreak\n",
    "\n",
    "MOD300: Mandatory Project 2\n",
    "\n",
    "Collaborators:  "
   ]
  },
  {
   "cell_type": "markdown",
   "id": "e97f0054",
   "metadata": {},
   "source": [
    "Abstract"
   ]
  },
  {
   "cell_type": "markdown",
   "id": "fa6da91b",
   "metadata": {},
   "source": [
    "Introduction"
   ]
  },
  {
   "cell_type": "markdown",
   "id": "b91b351e",
   "metadata": {},
   "source": [
    "#Modeling a Zombie Outbreak - SZ Model\n",
    "\n",
    "**Aim.** Develop and document the two-compartment SZ model used in the project:\n",
    "susceptibles S(t) and zombies Z(t). Provide (i) assumptions, (ii) derivation of the ODEs,\n",
    "(iii) interpretation of β, (iv) the closed-form (analytic) solution, and (v) a short\n",
    "sanity-check plot. This section is self-contained and stops before Exercise 1.\n",
    "\n",
    "**Context.** The project specifies a minimal two-compartment model with only one flow:\n",
    "S → Z. No curing or removal is included here. The population is assumed well-mixed\n",
    "(mass-action)."
   ]
  },
  {
   "cell_type": "markdown",
   "id": "494ec4d1",
   "metadata": {},
   "source": [
    "\n",
    "#### 1) Model and Assumptions\n",
    "\n",
    "**Compartments.** $S(t)$: susceptible humans; $Z(t)$: zombies. Only $S\\to Z$ transport is allowed\n",
    "(once bitten/scratched, you are a zombie). The compartments are assumed *well mixed*, i.e.,\n",
    "pairs of individuals interact with equal probability.\n",
    "\n",
    "**Contact model and infection probability.** Let $C(N)$ be the per-person contact rate\n",
    "(contacts per unit time). At time $t$ the probability that a random contact is with a zombie\n",
    "is $Z(t)/N$. Let $p_Z$ be the probability that an $S$–$Z$ encounter causes infection. Then define\n",
    "the transmission parameter\n",
    "\n",
    "$$\n",
    "\\beta \\;=\\; p_Z \\cdot C(N) \\quad \\text{(units: time}^{-1}\\text{).}\n",
    "$$\n",
    "\n",
    "Over a small interval $\\Delta t$, the expected reduction in $S$ is\n",
    "$$\n",
    "S(t+\\Delta t) - S(t) \\;=\\; -\\,\\beta\\,\\Delta t\\,\\frac{Z(t)}{N}\\,S(t). \\tag{1}\n",
    "$$\n",
    "\n",
    "**Constant population.** In this base model, $N = S(t) + Z(t)$ is treated as constant\n",
    "(ignoring births/deaths/migration). Taking $\\Delta t \\to 0$ gives the ODE system\n",
    "$$\n",
    "\\frac{dS}{dt} \\;=\\; -\\beta \\,\\frac{S Z}{N},\n",
    "\\qquad\n",
    "\\frac{dZ}{dt} \\;=\\; \\beta \\,\\frac{S Z}{N}. \\tag{2–3}\n",
    "$$\n",
    "\n",
    "We assume $Z(0)=Z_0\\ge 1$ (typically $Z_0=1$).\n"
   ]
  },
  {
   "cell_type": "markdown",
   "id": "ab050028",
   "metadata": {},
   "source": [
    "\n",
    "#### 2) Interpretation of $\\beta$ — Technical and Intuitive Views\n",
    "\n",
    "**Technical.** $\\beta$ bundles (i) how often people meet ($C$) and (ii) how risky each $S$–$Z$\n",
    "contact is ($p_Z$). The mass-action term $S\\cdot Z/N$ encodes well-mixed interactions.\n",
    "Equation (1) becomes (2–3) by dividing by $\\Delta t$ and letting $\\Delta t\\to 0$.\n",
    "\n",
    "**Intuition.** $\\beta$ is a single “speed knob” for spread: more meetings and/or higher bite\n",
    "risk $\\Rightarrow$ faster conversion of $S$ to $Z$.\n"
   ]
  },
  {
   "cell_type": "markdown",
   "id": "654f9d44",
   "metadata": {},
   "source": [
    "#### 3) Analytic (Closed-Form) Solution\n",
    "\n",
    "With $S_0=S(0)$, $Z_0=Z(0)$, and $N=S_0+Z_0$, the SZ system (2–3) has the exact solution\n",
    "$$\n",
    "S(t)=\\frac{(S_0+Z_0)\\,(S_0/Z_0)\\,e^{-\\beta t}}{1+(S_0/Z_0)\\,e^{-\\beta t}},\n",
    "\\qquad\n",
    "Z(t)=\\frac{S_0+Z_0}{1+(S_0/Z_0)\\,e^{-\\beta t}}. \\tag{4–5}\n",
    "$$\n",
    "\n",
    "These expressions conserve $S(t)+Z(t)=N$ for all $t$.\n",
    "\n",
    "*Remark.* Using $S=N-Z$, (3) becomes $\\,\\dfrac{dZ}{dt}=\\dfrac{\\beta}{N}\\,Z\\,(N-Z)$, i.e., **logistic\n",
    "growth** toward the carrying capacity $N$ when $\\beta>0$ and $Z_0>0$ (formal fixed-point\n",
    "analysis is left for Exercise 1).\n"
   ]
  },
  {
   "cell_type": "markdown",
   "id": "fb02e854",
   "metadata": {},
   "source": [
    "\n",
    "#### 4) Parameter Example from the Project\n",
    "\n",
    "A scenario in the project estimates $\\beta$ with 10 hours of contact, a 20% infection chance\n",
    "for the family, and one zombie among three persons ($Z/N=1/3$). Using\n",
    "$$\n",
    "\\beta \\cdot (Z/N) \\cdot \\Delta t \\;=\\; 0.20\n",
    "\\;\\Rightarrow\\;\n",
    "\\beta \\cdot \\frac{1}{3} \\cdot 10\\,\\text{h} \\;=\\; 0.20\n",
    "\\;\\Rightarrow\\;\n",
    "\\beta \\;=\\; 0.06\\ \\text{h}^{-1}.\n",
    "$$\n",
    "\n",
    "We reuse $\\beta=0.06\\ \\text{h}^{-1}$ in the demo below.\n"
   ]
  },
  {
   "cell_type": "markdown",
   "id": "d9b4022c",
   "metadata": {},
   "source": [
    "#### 5) Implementation (Utilities for Reuse Later)\n",
    "\n",
    "We provide: (i) `beta_from_contacts` to compute $\\beta = p_{\\text{infect}}\\cdot\\text{contact\\_rate}$,\n",
    "(ii) `analytic_sz` to evaluate the exact solution at arbitrary times, and (iii) a\n",
    "conservation checker for $S+Z=N$. These will be reused to validate numerical solvers\n",
    "in later parts of the project.\n"
   ]
  },
  {
   "cell_type": "code",
   "execution_count": 18,
   "id": "582bca60",
   "metadata": {},
   "outputs": [],
   "source": [
    "#%% \n",
    "import numpy as np\n",
    "import matplotlib.pyplot as plt\n",
    "from typing import Tuple\n",
    "\n",
    "def beta_from_contacts(p_infect: float, contacts_per_person_per_time: float) -> float:\n",
    "    \"\"\"\n",
    "    Compute β = p_infect * contacts_per_person_per_time.\n",
    "\n",
    "    Parameters\n",
    "    ----------\n",
    "    p_infect : float\n",
    "        Probability that an S–Z encounter infects the human (0..1).\n",
    "    contacts_per_person_per_time : float\n",
    "        Average per-person contact rate (per unit time).\n",
    "\n",
    "    Returns\n",
    "    -------\n",
    "    float\n",
    "        β in 1/time units.\n",
    "    \"\"\"\n",
    "    return p_infect * contacts_per_person_per_time\n",
    "\n",
    "\n",
    "def analytic_sz(t: np.ndarray, S0: float, Z0: float, beta: float) -> Tuple[np.ndarray, np.ndarray]:\n",
    "    \"\"\"\n",
    "    Closed-form (analytic) SZ solution.\n",
    "\n",
    "    Parameters\n",
    "    ----------\n",
    "    t : array-like\n",
    "        Time points for evaluation.\n",
    "    S0 : float\n",
    "        Initial susceptible count at t=0.\n",
    "    Z0 : float\n",
    "        Initial zombie count at t=0 (>= 1 for nontrivial dynamics).\n",
    "    beta : float\n",
    "        Transmission parameter (1/time).\n",
    "\n",
    "    Returns\n",
    "    -------\n",
    "    (S, Z) : tuple of np.ndarray\n",
    "        Arrays of S(t) and Z(t) at the requested times.\n",
    "\n",
    "    Notes\n",
    "    -----\n",
    "    Implements equations (4)–(5) with N = S0 + Z0.\n",
    "    \"\"\"\n",
    "    t = np.asarray(t, dtype=float)\n",
    "    N = S0 + Z0\n",
    "    ratio = (S0 / Z0) * np.exp(-beta * t)\n",
    "    denom = (1.0 + ratio)\n",
    "    S = (N * (S0 / Z0) * np.exp(-beta * t)) / denom\n",
    "    Z = N / denom\n",
    "    return S, Z\n",
    "\n",
    "\n",
    "def check_conservation(S: np.ndarray, Z: np.ndarray, N: float, atol: float = 1e-10) -> bool:\n",
    "    \"\"\"Return True if S+Z == N within the given tolerance.\"\"\"\n",
    "    return np.allclose(S + Z, N, atol=atol)\n"
   ]
  },
  {
   "cell_type": "markdown",
   "id": "0bb4a27c",
   "metadata": {},
   "source": [
    "#### 6) Sanity-Check Demo (Not Exercise 1)\n",
    "\n",
    "We take $N=1000$, $Z_0=1$, $S_0=999$, and $\\beta=0.06\\ \\text{h}^{-1}$ (from the scenario),\n",
    "evaluate the analytic solution on $[0,200]$ hours, verify conservation, and plot fractions\n",
    "$S/N$ and $Z/N$. This is *only* to visualize the model’s qualitative behavior; Exercise 1\n",
    "will use the same formulas to compare Sokndal and Dirdal explicitly.\n"
   ]
  },
  {
   "cell_type": "code",
   "execution_count": 19,
   "id": "17422b45",
   "metadata": {},
   "outputs": [
    {
     "data": {
      "image/png": "[encoded data removed]",
      "text/plain": [
       "<Figure size 640x480 with 1 Axes>"
      ]
     },
     "metadata": {},
     "output_type": "display_data"
    }
   ],
   "source": [
    "#%% \n",
    "# Parameters\n",
    "N = 1000.0\n",
    "Z0 = 1.0\n",
    "S0 = N - Z0\n",
    "beta = 0.06  # h^-1 (from the scenario)\n",
    "\n",
    "# Time grid (hours)\n",
    "t = np.linspace(0.0, 200.0, 800)\n",
    "\n",
    "# Analytic solution\n",
    "S, Z = analytic_sz(t, S0, Z0, beta)\n",
    "\n",
    "# Conservation check\n",
    "assert check_conservation(S, Z, N), \"Conservation failed: S+Z != N\"\n",
    "\n",
    "# (Optional) monotonicity sanity check for β>0, Z0>0:\n",
    "dS = np.diff(S)\n",
    "dZ = np.diff(Z)\n",
    "assert (dS <= 1e-12).all(), \"S(t) should be non-increasing for β>0, Z0>0\"\n",
    "assert (dZ >= -1e-12).all(), \"Z(t) should be non-decreasing for β>0, Z0>0\"\n",
    "\n",
    "# Plot fractions\n",
    "plt.figure()\n",
    "plt.plot(t, S / N, label=\"S/N (susceptible fraction)\")\n",
    "plt.plot(t, Z / N, label=\"Z/N (zombie fraction)\")\n",
    "plt.xlabel(\"time [hours]\")\n",
    "plt.ylabel(\"fraction of population\")\n",
    "plt.title(\"Analytic SZ solution (fractions)\")\n",
    "plt.legend()\n",
    "plt.show()\n"
   ]
  },
  {
   "cell_type": "markdown",
   "id": "0054addc",
   "metadata": {},
   "source": [
    "\n",
    "## 7) Summary of the SZ Section\n",
    "\n",
    "- The base model assumes well-mixed interactions and a single S→Z flow; \\(N=S+Z\\) is constant.\n",
    "- The governing equations are \\(dS/dt = -\\beta S Z / N\\) and \\(dZ/dt = \\beta S Z / N\\), with \\(\\beta=p_Z\\cdot C(N)\\).\n",
    "- The analytic solution (4–5) conserves population and is ideal for validating numerical solvers.\n",
    "- A project-provided scenario gives \\(\\beta = 0.06\\ \\text{h}^{-1}\\); we used it for a minimal sanity check.\n",
    "\n",
    "**Next step (Exercise 1, not done here):** use (4–5) to compare zombie fractions for Sokndal (N=3305)\n",
    "and Dirdal (N=683), and analyze critical points/logistic limit behavior for \\(\\beta>0\\).\n"
   ]
  },
  {
   "cell_type": "markdown",
   "id": "0ec406d6",
   "metadata": {},
   "source": [
    "Exercise 1"
   ]
  },
  {
   "cell_type": "markdown",
   "id": "8d55f4c5",
   "metadata": {},
   "source": [
    "Exercise 2"
   ]
  },
  {
   "cell_type": "markdown",
   "id": "4f92a65e",
   "metadata": {},
   "source": [
    "Exercise 3"
   ]
  },
  {
   "cell_type": "markdown",
   "id": "57cd63c7",
   "metadata": {},
   "source": [
    "Exercise 4"
   ]
  },
  {
   "cell_type": "markdown",
   "id": "198934f3",
   "metadata": {},
   "source": [
    "Exercise 5"
   ]
  },
  {
   "cell_type": "markdown",
   "id": "2a6e8ba4",
   "metadata": {},
   "source": [
    "Reflection"
   ]
  }
 ],
 "metadata": {
  "kernelspec": {
   "display_name": "Python 3",
   "language": "python",
   "name": "python3"
  },
  "language_info": {
   "codemirror_mode": {
    "name": "ipython",
    "version": 3
   },
   "file_extension": ".py",
   "mimetype": "text/x-python",
   "name": "python",
   "nbconvert_exporter": "python",
   "pygments_lexer": "ipython3",
   "version": "3.11.9"
  }
 },
 "nbformat": 4,
 "nbformat_minor": 5
}
