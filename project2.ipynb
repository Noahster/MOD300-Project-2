{
 "cells": [
  {
   "cell_type": "markdown",
   "id": "e452ba8a",
   "metadata": {},
   "source": [
    "## Modeling the Worst: A Zombie and Ebola outbreak\n",
    "\n",
    "#### MOD300: Mandatory Project 2\n",
    "\n",
    "#### Collaborators:  "
   ]
  },
  {
   "cell_type": "markdown",
   "id": "e97f0054",
   "metadata": {},
   "source": [
    "Abstract"
   ]
  },
  {
   "cell_type": "markdown",
   "id": "fa6da91b",
   "metadata": {},
   "source": [
    "Introduction"
   ]
  },
  {
   "cell_type": "markdown",
   "id": "b91b351e",
   "metadata": {},
   "source": [
    "Modeling a zombie outbreak"
   ]
  },
  {
   "cell_type": "markdown",
   "id": "0ec406d6",
   "metadata": {},
   "source": [
    "## Exercise 1\n",
    "\n",
    "Using the SZ-model to investigate the possibility for a zombie outbreak in Sokndal and Dirdal."
   ]
  },
  {
   "cell_type": "markdown",
   "id": "8d55f4c5",
   "metadata": {},
   "source": [
    "Exercise 2"
   ]
  },
  {
   "cell_type": "markdown",
   "id": "4f92a65e",
   "metadata": {},
   "source": [
    "## Exercise 3: Predicting the fate of Sokndal and Dirdal\n",
    "\n",
    "Zombie-infection rate is now assumed to be time dependent and decline exponentially.\n"
   ]
  },
  {
   "cell_type": "markdown",
   "id": "92e3d256",
   "metadata": {},
   "source": [
    "### Task 3.1\n",
    "\n",
    "Estimate the decay rate ($\\lambda$) from the provided information regarding the Sokndal and Dirdal outbreaks.\n",
    "\n",
    "From the equations provided (10), (11) and (12), we have this:\n",
    "\n",
    "$e^{-\\lambda T} = 0.6 \\implies \\lambda = -\\frac{1}{T} \\ln(0.6)$\n",
    "\n",
    "#### Plug in values:\n",
    "**Sokndal:** T = 48 hours. \n",
    "\n",
    "$\\lambda_{\\text{Sokndal}} = -\\frac{1}{48} \\ln 0.6$,\n",
    "\n",
    "**Dirdal:** T = 72 hours.\n",
    "\n",
    "$\\lambda_{\\text{Dirdal}} = -\\frac{1}{72} \\ln 0.6$\n",
    "\n",
    "\n",
    "**Computing these numerically:**"
   ]
  },
  {
   "cell_type": "code",
   "execution_count": 1,
   "id": "8d449384",
   "metadata": {},
   "outputs": [
    {
     "name": "stdout",
     "output_type": "stream",
     "text": [
      "0.010642200495124807 0.007094800330083205\n"
     ]
    }
   ],
   "source": [
    "import numpy as np\n",
    "\n",
    "alpha_sokndal = -np.log(0.6)/48\n",
    "alpha_dirdal = -np.log(0.6)/72\n",
    "print(alpha_sokndal, alpha_dirdal)"
   ]
  },
  {
   "cell_type": "markdown",
   "id": "ed08e682",
   "metadata": {},
   "source": [
    "### Task 3.2\n",
    "Solving the SZ-model numerically, but now the $\\beta$-factor is time dependent."
   ]
  },
  {
   "cell_type": "markdown",
   "id": "57cd63c7",
   "metadata": {},
   "source": [
    "Exercise 4"
   ]
  },
  {
   "cell_type": "markdown",
   "id": "198934f3",
   "metadata": {},
   "source": [
    "Exercise 5"
   ]
  },
  {
   "cell_type": "markdown",
   "id": "2a6e8ba4",
   "metadata": {},
   "source": [
    "Reflection"
   ]
  }
 ],
 "metadata": {
  "kernelspec": {
   "display_name": "Python 3",
   "language": "python",
   "name": "python3"
  },
  "language_info": {
   "codemirror_mode": {
    "name": "ipython",
    "version": 3
   },
   "file_extension": ".py",
   "mimetype": "text/x-python",
   "name": "python",
   "nbconvert_exporter": "python",
   "pygments_lexer": "ipython3",
   "version": "3.12.1"
  }
 },
 "nbformat": 4,
 "nbformat_minor": 5
}
